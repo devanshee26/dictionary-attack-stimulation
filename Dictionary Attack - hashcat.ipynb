{
 "cells": [
  {
   "cell_type": "code",
   "execution_count": null,
   "metadata": {
    "collapsed": true,
    "id": "5mVQT5g2vn_G"
   },
   "outputs": [],
   "source": [
    "%%capture\n",
    "\n",
    "# from google.colab import drive\n",
    "# drive.mount('/content/drive')\n",
    "\n",
    "# Install Hashcat\n",
    "!apt-get install -y hashcat\n",
    "\n",
    "# Install bcrypt\n",
    "!pip install bcrypt"
   ]
  },
  {
   "cell_type": "code",
   "execution_count": null,
   "metadata": {
    "colab": {
     "base_uri": "https://localhost:8080/"
    },
    "executionInfo": {
     "elapsed": 299,
     "status": "ok",
     "timestamp": 1733117718313,
     "user": {
      "displayName": "Devanshee Vankani",
      "userId": "06654265297484917435"
     },
     "user_tz": 300
    },
    "id": "AK_Ik2CcCggD",
    "outputId": "7ecb3ea7-bc6d-4203-df31-7f60b9ba26e0"
   },
   "outputs": [
    {
     "name": "stdout",
     "output_type": "stream",
     "text": [
      "SHA-256 hash: c962a886f6239732b9b22f4982592b8c9177977e4190952fe3c107138285cf9c\n"
     ]
    }
   ],
   "source": [
    "import hashlib\n",
    "\n",
    "def generate_sha256(password: str) -> str:\n",
    "    # Create a SHA-256 hash object\n",
    "    sha256_hash = hashlib.sha256()\n",
    "\n",
    "    # Update the hash object with the password encoded to bytes\n",
    "    sha256_hash.update(password.encode('utf-8'))\n",
    "\n",
    "    # Get the hexadecimal representation of the hash\n",
    "    hashed_password = sha256_hash.hexdigest()\n",
    "\n",
    "    return hashed_password\n",
    "\n",
    "# Define your password here\n",
    "password = \"woodfloor23\"  # Replace with the desired password\n",
    "\n",
    "# Generate the SHA-256 hash\n",
    "hashed_password = generate_sha256(password)\n",
    "\n",
    "# Print the result\n",
    "print(f\"SHA-256 hash: {hashed_password}\")"
   ]
  },
  {
   "cell_type": "markdown",
   "metadata": {
    "id": "TmOAhoNy_gsP"
   },
   "source": [
    "1M"
   ]
  },
  {
   "cell_type": "code",
   "execution_count": null,
   "metadata": {
    "colab": {
     "base_uri": "https://localhost:8080/"
    },
    "collapsed": true,
    "executionInfo": {
     "elapsed": 60014,
     "status": "ok",
     "timestamp": 1733111278485,
     "user": {
      "displayName": "Devanshee Vankani",
      "userId": "06654265297484917435"
     },
     "user_tz": 300
    },
    "id": "Ez9kn_MG0sdq",
    "outputId": "7aaf4452-02a8-43b3-988c-e1e634d604d4"
   },
   "outputs": [
    {
     "name": "stdout",
     "output_type": "stream",
     "text": [
      "hashcat (v6.2.5) starting\n",
      "\n",
      "OpenCL API (OpenCL 2.0 pocl 1.8  Linux, None+Asserts, RELOC, LLVM 11.1.0, SLEEF, DISTRO, POCL_DEBUG) - Platform #1 [The pocl project]\n",
      "=====================================================================================================================================\n",
      "* Device #1: pthread-Intel(R) Xeon(R) CPU @ 2.20GHz, 5433/10930 MB (2048 MB allocatable), 2MCU\n",
      "\n",
      "Minimum password length supported by kernel: 0\n",
      "Maximum password length supported by kernel: 31\n",
      "\n",
      "Hashes: 1 digests; 1 unique digests, 1 unique salts\n",
      "Bitmaps: 16 bits, 65536 entries, 0x0000ffff mask, 262144 bytes, 5/13 rotates\n",
      "Rules: 1\n",
      "\n",
      "Optimizers applied:\n",
      "* Optimized-Kernel\n",
      "* Zero-Byte\n",
      "* Precompute-Init\n",
      "* Early-Skip\n",
      "* Not-Salted\n",
      "* Not-Iterated\n",
      "* Single-Hash\n",
      "* Single-Salt\n",
      "* Raw-Hash\n",
      "\n",
      "Watchdog: Hardware monitoring interface not found on your system.\n",
      "Watchdog: Temperature abort trigger disabled.\n",
      "\n",
      "Host memory required for this attack: 0 MB\n",
      "\n",
      "Dictionary cache built:\n",
      "* Filename..: /content/drive/MyDrive/00 Carleton/Do Not Touch/Colab files/Password Dictionary/1MPasswords.txt\n",
      "* Passwords.: 999998\n",
      "* Bytes.....: 8529108\n",
      "* Keyspace..: 999998\n",
      "* Runtime...: 1 sec\n",
      "\n",
      "\u001b[33mApproaching final keyspace - workload adjusted.\u001b[0m\n",
      "\u001b[33m\u001b[0m\n",
      "b4f8c68214a848d8c6f4880d41687c544c394f59a9c438620db3fdb4ab722583:vjhtrhsvdctcegth\n",
      "                                                          \n",
      "Session..........: hashcat\n",
      "Status...........: Cracked\n",
      "Hash.Mode........: 1400 (SHA2-256)\n",
      "Hash.Target......: b4f8c68214a848d8c6f4880d41687c544c394f59a9c438620db...722583\n",
      "Time.Started.....: Mon Dec  2 03:47:55 2024 (1 sec)\n",
      "Time.Estimated...: Mon Dec  2 03:47:56 2024 (0 secs)\n",
      "Kernel.Feature...: Optimized Kernel\n",
      "Guess.Base.......: File (/content/drive/MyDrive/00 Carleton/Do Not Touch/Colab files/Password Dictionary/1MPasswords.txt)\n",
      "Guess.Queue......: 1/1 (100.00%)\n",
      "Speed.#1.........:  1189.3 kH/s (1.23ms) @ Accel:1024 Loops:1 Thr:1 Vec:8\n",
      "Recovered........: 1/1 (100.00%) Digests\n",
      "Progress.........: 999998/999998 (100.00%)\n",
      "Rejected.........: 9/999998 (0.00%)\n",
      "Restore.Point....: 999433/999998 (99.94%)\n",
      "Restore.Sub.#1...: Salt:0 Amplifier:0-1 Iteration:0-1\n",
      "Candidate.Engine.: Device Generator\n",
      "Candidates.#1....: vjq3frrfeyn -> vjht008\n",
      "\n",
      "Started: Mon Dec  2 03:46:58 2024\n",
      "Stopped: Mon Dec  2 03:47:58 2024\n"
     ]
    }
   ],
   "source": [
    "!hashcat -m 1400 -a 0 -O \"/content/drive/MyDrive/Colab files/SHA256/NoSalt/sha256_1M.txt\" \"/content/drive/MyDrive/Colab files/Password Dictionary/1MPasswords.txt\""
   ]
  },
  {
   "cell_type": "markdown",
   "metadata": {
    "id": "0fjvCdJD_lDI"
   },
   "source": [
    "10M"
   ]
  },
  {
   "cell_type": "code",
   "execution_count": null,
   "metadata": {
    "colab": {
     "base_uri": "https://localhost:8080/"
    },
    "collapsed": true,
    "executionInfo": {
     "elapsed": 65621,
     "status": "ok",
     "timestamp": 1733108376999,
     "user": {
      "displayName": "Devanshee Vankani",
      "userId": "06654265297484917435"
     },
     "user_tz": 300
    },
    "id": "POVy9j4L_mm2",
    "outputId": "6801eb02-df5a-4c2a-b0a5-80a675d17da3"
   },
   "outputs": [
    {
     "name": "stdout",
     "output_type": "stream",
     "text": [
      "hashcat (v6.2.5) starting\n",
      "\n",
      "OpenCL API (OpenCL 2.0 pocl 1.8  Linux, None+Asserts, RELOC, LLVM 11.1.0, SLEEF, DISTRO, POCL_DEBUG) - Platform #1 [The pocl project]\n",
      "=====================================================================================================================================\n",
      "* Device #1: pthread-Intel(R) Xeon(R) CPU @ 2.20GHz, 5433/10930 MB (2048 MB allocatable), 2MCU\n",
      "\n",
      "Minimum password length supported by kernel: 0\n",
      "Maximum password length supported by kernel: 31\n",
      "\n",
      "Hashes: 1 digests; 1 unique digests, 1 unique salts\n",
      "Bitmaps: 16 bits, 65536 entries, 0x0000ffff mask, 262144 bytes, 5/13 rotates\n",
      "Rules: 1\n",
      "\n",
      "Optimizers applied:\n",
      "* Optimized-Kernel\n",
      "* Zero-Byte\n",
      "* Precompute-Init\n",
      "* Early-Skip\n",
      "* Not-Salted\n",
      "* Not-Iterated\n",
      "* Single-Hash\n",
      "* Single-Salt\n",
      "* Raw-Hash\n",
      "\n",
      "Watchdog: Hardware monitoring interface not found on your system.\n",
      "Watchdog: Temperature abort trigger disabled.\n",
      "\n",
      "Host memory required for this attack: 0 MB\n",
      "\n",
      "Dictionary cache built:\n",
      "* Filename..: /content/drive/MyDrive/00 Carleton/Do Not Touch/Colab files/Password Dictionary/ignis-10M.txt\n",
      "* Passwords.: 10000000\n",
      "* Bytes.....: 94461698\n",
      "* Keyspace..: 10000000\n",
      "* Runtime...: 2 secs\n",
      "\n",
      "f13268dccb3eccef3e4cb209558d656c7330249277a2597eb3e7b981ea4278ff:prostudyo1905\n",
      "                                                          \n",
      "Session..........: hashcat\n",
      "Status...........: Cracked\n",
      "Hash.Mode........: 1400 (SHA2-256)\n",
      "Hash.Target......: f13268dccb3eccef3e4cb209558d656c7330249277a2597eb3e...4278ff\n",
      "Time.Started.....: Mon Dec  2 02:59:29 2024 (6 secs)\n",
      "Time.Estimated...: Mon Dec  2 02:59:35 2024 (0 secs)\n",
      "Kernel.Feature...: Optimized Kernel\n",
      "Guess.Base.......: File (/content/drive/MyDrive/00 Carleton/Do Not Touch/Colab files/Password Dictionary/ignis-10M.txt)\n",
      "Guess.Queue......: 1/1 (100.00%)\n",
      "Speed.#1.........:  1140.5 kH/s (1.41ms) @ Accel:1024 Loops:1 Thr:1 Vec:8\n",
      "Recovered........: 1/1 (100.00%) Digests\n",
      "Progress.........: 7082015/10000000 (70.82%)\n",
      "Rejected.........: 31/7082015 (0.00%)\n",
      "Restore.Point....: 7079967/10000000 (70.80%)\n",
      "Restore.Sub.#1...: Salt:0 Amplifier:0-1 Iteration:0-1\n",
      "Candidate.Engine.: Device Generator\n",
      "Candidates.#1....: primo6 -> psu2003\n",
      "\n",
      "Started: Mon Dec  2 02:58:31 2024\n",
      "Stopped: Mon Dec  2 02:59:36 2024\n"
     ]
    }
   ],
   "source": [
    "!hashcat -m 1400 -a 0 -O \"/content/drive/MyDrive/Colab files/SHA256/NoSalt/sha256_10M.txt\" \"/content/drive/MyDrive/Colab files/Password Dictionary/ignis-10M.txt\""
   ]
  },
  {
   "cell_type": "markdown",
   "metadata": {
    "id": "DFeQi7Bs_iC-"
   },
   "source": [
    "273M"
   ]
  },
  {
   "cell_type": "code",
   "execution_count": null,
   "metadata": {
    "colab": {
     "base_uri": "https://localhost:8080/"
    },
    "collapsed": true,
    "executionInfo": {
     "elapsed": 208695,
     "status": "ok",
     "timestamp": 1733112375640,
     "user": {
      "displayName": "Devanshee Vankani",
      "userId": "06654265297484917435"
     },
     "user_tz": 300
    },
    "id": "PBSjETcV_qkf",
    "outputId": "03bf1d9d-6d3c-4175-86e6-9366d74255e7"
   },
   "outputs": [
    {
     "name": "stdout",
     "output_type": "stream",
     "text": [
      "hashcat (v6.2.5) starting\n",
      "\n",
      "OpenCL API (OpenCL 2.0 pocl 1.8  Linux, None+Asserts, RELOC, LLVM 11.1.0, SLEEF, DISTRO, POCL_DEBUG) - Platform #1 [The pocl project]\n",
      "=====================================================================================================================================\n",
      "* Device #1: pthread-Intel(R) Xeon(R) CPU @ 2.20GHz, 5433/10930 MB (2048 MB allocatable), 2MCU\n",
      "\n",
      "Minimum password length supported by kernel: 0\n",
      "Maximum password length supported by kernel: 31\n",
      "\n",
      "Hashes: 1 digests; 1 unique digests, 1 unique salts\n",
      "Bitmaps: 16 bits, 65536 entries, 0x0000ffff mask, 262144 bytes, 5/13 rotates\n",
      "Rules: 1\n",
      "\n",
      "Optimizers applied:\n",
      "* Optimized-Kernel\n",
      "* Zero-Byte\n",
      "* Precompute-Init\n",
      "* Early-Skip\n",
      "* Not-Salted\n",
      "* Not-Iterated\n",
      "* Single-Hash\n",
      "* Single-Salt\n",
      "* Raw-Hash\n",
      "\n",
      "Watchdog: Hardware monitoring interface not found on your system.\n",
      "Watchdog: Temperature abort trigger disabled.\n",
      "\n",
      "Host memory required for this attack: 0 MB\n",
      "\n",
      "Dictionary cache built:\n",
      "* Filename..: /content/drive/MyDrive/00 Carleton/Do Not Touch/Colab files/Password Dictionary/hashkiller273M.txt\n",
      "* Passwords.: 273208237\n",
      "* Bytes.....: 2980992461\n",
      "* Keyspace..: 273208237\n",
      "* Runtime...: 39 secs\n",
      "\n",
      "[s]tatus [p]ause [b]ypass [c]heckpoint [f]inish [q]uit => s\n",
      "\n",
      "\n",
      "Session..........: hashcat\n",
      "Status...........: Running\n",
      "Hash.Mode........: 1400 (SHA2-256)\n",
      "Hash.Target......: 2bcfb08eb3fe351186a2df180a4e3e27dc7eeb805024c64f3b3...b7f94c\n",
      "Time.Started.....: Mon Dec  2 04:04:19 2024 (23 secs)\n",
      "Time.Estimated...: Mon Dec  2 04:08:02 2024 (3 mins, 20 secs)\n",
      "Kernel.Feature...: Optimized Kernel\n",
      "Guess.Base.......: File (/content/drive/MyDrive/00 Carleton/Do Not Touch/Colab files/Password Dictionary/hashkiller273M.txt)\n",
      "Guess.Queue......: 1/1 (100.00%)\n",
      "Speed.#1.........:  1224.0 kH/s (1.28ms) @ Accel:1024 Loops:1 Thr:1 Vec:8\n",
      "Recovered........: 0/1 (0.00%) Digests\n",
      "Progress.........: 27037696/273208237 (9.90%)\n",
      "Rejected.........: 0/27037696 (0.00%)\n",
      "Restore.Point....: 27037696/273208237 (9.90%)\n",
      "Restore.Sub.#1...: Salt:0 Amplifier:0-1 Iteration:0-1\n",
      "Candidate.Engine.: Device Generator\n",
      "Candidates.#1....: 255573952646890 -> 25562155\n",
      "\n",
      "[s]tatus [p]ause [b]ypass [c]heckpoint [f]inish [q]uit => s\n",
      "\n",
      "\n",
      "Session..........: hashcat\n",
      "Status...........: Running\n",
      "Hash.Mode........: 1400 (SHA2-256)\n",
      "Hash.Target......: 2bcfb08eb3fe351186a2df180a4e3e27dc7eeb805024c64f3b3...b7f94c\n",
      "Time.Started.....: Mon Dec  2 04:04:19 2024 (1 min, 50 secs)\n",
      "Time.Estimated...: Mon Dec  2 04:07:57 2024 (1 min, 48 secs)\n",
      "Kernel.Feature...: Optimized Kernel\n",
      "Guess.Base.......: File (/content/drive/MyDrive/00 Carleton/Do Not Touch/Colab files/Password Dictionary/hashkiller273M.txt)\n",
      "Guess.Queue......: 1/1 (100.00%)\n",
      "Speed.#1.........:  1269.7 kH/s (1.35ms) @ Accel:1024 Loops:1 Thr:1 Vec:8\n",
      "Recovered........: 0/1 (0.00%) Digests\n",
      "Progress.........: 135165952/273208237 (49.47%)\n",
      "Rejected.........: 0/135165952 (0.00%)\n",
      "Restore.Point....: 135165952/273208237 (49.47%)\n",
      "Restore.Sub.#1...: Salt:0 Amplifier:0-1 Iteration:0-1\n",
      "Candidate.Engine.: Device Generator\n",
      "Candidates.#1....: ginhoe -> ginila\n",
      "\n",
      "[s]tatus [p]ause [b]ypass [c]heckpoint [f]inish [q]uit => \n",
      "\n",
      "Session..........: hashcat\n",
      "Status...........: Running\n",
      "Hash.Mode........: 1400 (SHA2-256)\n",
      "Hash.Target......: 2bcfb08eb3fe351186a2df180a4e3e27dc7eeb805024c64f3b3...b7f94c\n",
      "Time.Started.....: Mon Dec  2 04:04:19 2024 (1 min, 50 secs)\n",
      "Time.Estimated...: Mon Dec  2 04:07:58 2024 (1 min, 49 secs)\n",
      "Kernel.Feature...: Optimized Kernel\n",
      "Guess.Base.......: File (/content/drive/MyDrive/00 Carleton/Do Not Touch/Colab files/Password Dictionary/hashkiller273M.txt)\n",
      "Guess.Queue......: 1/1 (100.00%)\n",
      "Speed.#1.........:  1264.5 kH/s (1.35ms) @ Accel:1024 Loops:1 Thr:1 Vec:8\n",
      "Recovered........: 0/1 (0.00%) Digests\n",
      "Progress.........: 135170048/273208237 (49.48%)\n",
      "Rejected.........: 0/135170048 (0.00%)\n",
      "Restore.Point....: 135170048/273208237 (49.48%)\n",
      "Restore.Sub.#1...: Salt:0 Amplifier:0-1 Iteration:0-1\n",
      "Candidate.Engine.: Device Generator\n",
      "Candidates.#1....: ginila155 -> ginjizaddict\n",
      "\n",
      "2bcfb08eb3fe351186a2df180a4e3e27dc7eeb805024c64f3b3dee6b3db7f94c:hangaico\n",
      "                                                          \n",
      "Session..........: hashcat\n",
      "Status...........: Cracked\n",
      "Hash.Mode........: 1400 (SHA2-256)\n",
      "Hash.Target......: 2bcfb08eb3fe351186a2df180a4e3e27dc7eeb805024c64f3b3...b7f94c\n",
      "Time.Started.....: Mon Dec  2 04:04:19 2024 (1 min, 54 secs)\n",
      "Time.Estimated...: Mon Dec  2 04:06:13 2024 (0 secs)\n",
      "Kernel.Feature...: Optimized Kernel\n",
      "Guess.Base.......: File (/content/drive/MyDrive/00 Carleton/Do Not Touch/Colab files/Password Dictionary/hashkiller273M.txt)\n",
      "Guess.Queue......: 1/1 (100.00%)\n",
      "Speed.#1.........:  1253.1 kH/s (1.23ms) @ Accel:1024 Loops:1 Thr:1 Vec:8\n",
      "Recovered........: 1/1 (100.00%) Digests\n",
      "Progress.........: 140546048/273208237 (51.44%)\n",
      "Rejected.........: 0/140546048 (0.00%)\n",
      "Restore.Point....: 140544000/273208237 (51.44%)\n",
      "Restore.Sub.#1...: Salt:0 Amplifier:0-1 Iteration:0-1\n",
      "Candidate.Engine.: Device Generator\n",
      "Candidates.#1....: hangab3259 -> hangcoi4444\n",
      "\n",
      "Started: Mon Dec  2 04:02:46 2024\n",
      "Stopped: Mon Dec  2 04:06:15 2024\n"
     ]
    }
   ],
   "source": [
    "!hashcat -m 1400 -a 0 -O \"/content/drive/MyDrive/Colab files/SHA256/NoSalt/sha256_273M.txt\" \"/content/drive/MyDrive/Colab files/Password Dictionary/hashkiller273M.txt\""
   ]
  },
  {
   "cell_type": "markdown",
   "metadata": {
    "id": "s_-Mm9bb6SAX"
   },
   "source": [
    "# SHA 256 with SALT"
   ]
  },
  {
   "cell_type": "markdown",
   "metadata": {
    "id": "CYzzOxoj6f8S"
   },
   "source": [
    " Generating Salted Hashes"
   ]
  },
  {
   "cell_type": "code",
   "execution_count": null,
   "metadata": {
    "colab": {
     "base_uri": "https://localhost:8080/"
    },
    "executionInfo": {
     "elapsed": 105,
     "status": "ok",
     "timestamp": 1733111375007,
     "user": {
      "displayName": "Devanshee Vankani",
      "userId": "06654265297484917435"
     },
     "user_tz": 300
    },
    "id": "zOToTU9E6fhg",
    "outputId": "ac81e0c6-67cc-43f2-90c1-f16c4dc44af3"
   },
   "outputs": [
    {
     "name": "stdout",
     "output_type": "stream",
     "text": [
      "Salted SHA-256 Hash: $5$207fefcec431b0ac27b2f91441be86a7$c46b24b1d93b63cbb925bde4597b28522b1bc601998ee57a8338164fdd36959c\n"
     ]
    }
   ],
   "source": [
    "import hashlib\n",
    "import os\n",
    "\n",
    "# Define the password\n",
    "password = \"woodfloor23\"\n",
    "\n",
    "# Generate a random salt (16 bytes)\n",
    "salt = \"Secure123\"\n",
    "\n",
    "# Combine the password and salt\n",
    "password_salt_combo = password.encode() + salt.encode()\n",
    "\n",
    "# Generate the SHA-256 hash of the password with the salt\n",
    "hashed_password = hashlib.sha256(password_salt_combo).hexdigest()\n",
    "\n",
    "# Format the result as $5$salt$hash\n",
    "salted_sha256_hash = f\"$5${salt}${hashed_password}\"\n",
    "\n",
    "print(f\"Salted SHA-256 Hash: {salted_sha256_hash}\")"
   ]
  },
  {
   "cell_type": "markdown",
   "metadata": {
    "id": "WqOCULPY_tpW"
   },
   "source": [
    "1M"
   ]
  },
  {
   "cell_type": "code",
   "execution_count": null,
   "metadata": {
    "colab": {
     "base_uri": "https://localhost:8080/"
    },
    "executionInfo": {
     "elapsed": 63998,
     "status": "ok",
     "timestamp": 1733118182259,
     "user": {
      "displayName": "Devanshee Vankani",
      "userId": "06654265297484917435"
     },
     "user_tz": 300
    },
    "id": "veMzxZDm_tpY",
    "outputId": "3579d296-5428-416d-c83d-c63dcab4d68c"
   },
   "outputs": [
    {
     "name": "stdout",
     "output_type": "stream",
     "text": [
      "hashcat (v6.2.5) starting\n",
      "\n",
      "OpenCL API (OpenCL 2.0 pocl 1.8  Linux, None+Asserts, RELOC, LLVM 11.1.0, SLEEF, DISTRO, POCL_DEBUG) - Platform #1 [The pocl project]\n",
      "=====================================================================================================================================\n",
      "* Device #1: pthread-Intel(R) Xeon(R) CPU @ 2.20GHz, 5433/10930 MB (2048 MB allocatable), 2MCU\n",
      "\n",
      "Minimum password length supported by kernel: 0\n",
      "Maximum password length supported by kernel: 31\n",
      "Minimim salt length supported by kernel: 0\n",
      "Maximum salt length supported by kernel: 51\n",
      "\n",
      "Hashes: 1 digests; 1 unique digests, 1 unique salts\n",
      "Bitmaps: 16 bits, 65536 entries, 0x0000ffff mask, 262144 bytes, 5/13 rotates\n",
      "Rules: 1\n",
      "\n",
      "Optimizers applied:\n",
      "* Optimized-Kernel\n",
      "* Zero-Byte\n",
      "* Precompute-Init\n",
      "* Early-Skip\n",
      "* Not-Iterated\n",
      "* Appended-Salt\n",
      "* Single-Hash\n",
      "* Single-Salt\n",
      "* Raw-Hash\n",
      "\n",
      "Watchdog: Hardware monitoring interface not found on your system.\n",
      "Watchdog: Temperature abort trigger disabled.\n",
      "\n",
      "Host memory required for this attack: 0 MB\n",
      "\n",
      "Dictionary cache built:\n",
      "* Filename..: /content/drive/MyDrive/00 Carleton/Do Not Touch/Colab files/Password Dictionary/1MPasswords.txt\n",
      "* Passwords.: 999998\n",
      "* Bytes.....: 8529108\n",
      "* Keyspace..: 999998\n",
      "* Runtime...: 1 sec\n",
      "\n",
      "de04f2e642f0fca17f57ca74d2f150aa1438204e4ae71fb18cbad724d71d794e:Secure123:woodfloor23\n",
      "                                                          \n",
      "Session..........: hashcat\n",
      "Status...........: Cracked\n",
      "Hash.Mode........: 1410 (sha256($pass.$salt))\n",
      "Hash.Target......: de04f2e642f0fca17f57ca74d2f150aa1438204e4ae71fb18cb...ure123\n",
      "Time.Started.....: Mon Dec  2 05:42:59 2024 (1 sec)\n",
      "Time.Estimated...: Mon Dec  2 05:43:00 2024 (0 secs)\n",
      "Kernel.Feature...: Optimized Kernel\n",
      "Guess.Base.......: File (/content/drive/MyDrive/00 Carleton/Do Not Touch/Colab files/Password Dictionary/1MPasswords.txt)\n",
      "Guess.Queue......: 1/1 (100.00%)\n",
      "Speed.#1.........:   953.3 kH/s (1.56ms) @ Accel:1024 Loops:1 Thr:1 Vec:8\n",
      "Recovered........: 1/1 (100.00%) Digests\n",
      "Progress.........: 915460/999998 (91.55%)\n",
      "Rejected.........: 4/915460 (0.00%)\n",
      "Restore.Point....: 913412/999998 (91.34%)\n",
      "Restore.Sub.#1...: Salt:0 Amplifier:0-1 Iteration:0-1\n",
      "Candidate.Engine.: Device Generator\n",
      "Candidates.#1....: world777 -> woodauto461\n",
      "\n",
      "Started: Mon Dec  2 05:41:58 2024\n",
      "Stopped: Mon Dec  2 05:43:02 2024\n"
     ]
    }
   ],
   "source": [
    "!hashcat -m 1410 -a 0 -O \"/content/drive/MyDrive/Colab files/SHA256/Salted/sha256_1M.txt\" \"/content/drive/MyDrive/Colab files/Password Dictionary/1MPasswords.txt\""
   ]
  },
  {
   "cell_type": "markdown",
   "metadata": {
    "id": "kU7m5pxv_35o"
   },
   "source": [
    "10M"
   ]
  },
  {
   "cell_type": "code",
   "execution_count": null,
   "metadata": {
    "colab": {
     "base_uri": "https://localhost:8080/"
    },
    "collapsed": true,
    "executionInfo": {
     "elapsed": 72773,
     "status": "ok",
     "timestamp": 1733111911634,
     "user": {
      "displayName": "Devanshee Vankani",
      "userId": "06654265297484917435"
     },
     "user_tz": 300
    },
    "id": "agBCPc9o_tpZ",
    "outputId": "0e9c82e8-040a-43e5-ff16-04c4d60520bd"
   },
   "outputs": [
    {
     "name": "stdout",
     "output_type": "stream",
     "text": [
      "hashcat (v6.2.5) starting\n",
      "\n",
      "OpenCL API (OpenCL 2.0 pocl 1.8  Linux, None+Asserts, RELOC, LLVM 11.1.0, SLEEF, DISTRO, POCL_DEBUG) - Platform #1 [The pocl project]\n",
      "=====================================================================================================================================\n",
      "* Device #1: pthread-Intel(R) Xeon(R) CPU @ 2.20GHz, 5433/10930 MB (2048 MB allocatable), 2MCU\n",
      "\n",
      "Minimum password length supported by kernel: 0\n",
      "Maximum password length supported by kernel: 31\n",
      "Minimim salt length supported by kernel: 0\n",
      "Maximum salt length supported by kernel: 51\n",
      "\n",
      "Hashes: 1 digests; 1 unique digests, 1 unique salts\n",
      "Bitmaps: 16 bits, 65536 entries, 0x0000ffff mask, 262144 bytes, 5/13 rotates\n",
      "Rules: 1\n",
      "\n",
      "Optimizers applied:\n",
      "* Optimized-Kernel\n",
      "* Zero-Byte\n",
      "* Precompute-Init\n",
      "* Early-Skip\n",
      "* Not-Iterated\n",
      "* Appended-Salt\n",
      "* Single-Hash\n",
      "* Single-Salt\n",
      "* Raw-Hash\n",
      "\n",
      "Watchdog: Hardware monitoring interface not found on your system.\n",
      "Watchdog: Temperature abort trigger disabled.\n",
      "\n",
      "Host memory required for this attack: 0 MB\n",
      "\n",
      "Dictionary cache built:\n",
      "* Filename..: /content/drive/MyDrive/00 Carleton/Do Not Touch/Colab files/Password Dictionary/ignis-10M.txt\n",
      "* Passwords.: 10000000\n",
      "* Bytes.....: 94461698\n",
      "* Keyspace..: 10000000\n",
      "* Runtime...: 1 sec\n",
      "\n",
      "\u001b[33mApproaching final keyspace - workload adjusted.\u001b[0m\n",
      "\u001b[33m\u001b[0m\n",
      "0837f9b621babb3e8b320d1c55aa00cd4997040bc6da4c378a7827cbc20381f2:Secure123:05081985hitomy\n",
      "                                                          \n",
      "Session..........: hashcat\n",
      "Status...........: Cracked\n",
      "Hash.Mode........: 1410 (sha256($pass.$salt))\n",
      "Hash.Target......: 0837f9b621babb3e8b320d1c55aa00cd4997040bc6da4c378a7...ure123\n",
      "Time.Started.....: Mon Dec  2 03:58:19 2024 (10 secs)\n",
      "Time.Estimated...: Mon Dec  2 03:58:29 2024 (0 secs)\n",
      "Kernel.Feature...: Optimized Kernel\n",
      "Guess.Base.......: File (/content/drive/MyDrive/00 Carleton/Do Not Touch/Colab files/Password Dictionary/ignis-10M.txt)\n",
      "Guess.Queue......: 1/1 (100.00%)\n",
      "Speed.#1.........:  1035.5 kH/s (1.59ms) @ Accel:1024 Loops:1 Thr:1 Vec:8\n",
      "Recovered........: 1/1 (100.00%) Digests\n",
      "Progress.........: 10000000/10000000 (100.00%)\n",
      "Rejected.........: 42/10000000 (0.00%)\n",
      "Restore.Point....: 9998378/10000000 (99.98%)\n",
      "Restore.Sub.#1...: Salt:0 Amplifier:0-1 Iteration:0-1\n",
      "Candidate.Engine.: Device Generator\n",
      "Candidates.#1....: 0483528 -> 05081992s\n",
      "\n",
      "Started: Mon Dec  2 03:57:18 2024\n",
      "Stopped: Mon Dec  2 03:58:31 2024\n"
     ]
    }
   ],
   "source": [
    "!hashcat -m 1410 -a 0 -O \"/content/drive/MyDrive/Colab files/SHA256/Salted/sha256_10M.txt\" \"/content/drive/MyDrive/Colab files/Password Dictionary/ignis-10M.txt\""
   ]
  },
  {
   "cell_type": "markdown",
   "metadata": {
    "id": "-klbfZ7F_tpZ"
   },
   "source": [
    "256M"
   ]
  },
  {
   "cell_type": "code",
   "execution_count": null,
   "metadata": {
    "colab": {
     "base_uri": "https://localhost:8080/"
    },
    "collapsed": true,
    "executionInfo": {
     "elapsed": 167209,
     "status": "ok",
     "timestamp": 1733097989722,
     "user": {
      "displayName": "Devanshee Vankani",
      "userId": "06654265297484917435"
     },
     "user_tz": 300
    },
    "id": "nmtNQ8_3_tpZ",
    "outputId": "5b414bb1-2e9c-4116-af1c-cebd6865b5b4"
   },
   "outputs": [
    {
     "name": "stdout",
     "output_type": "stream",
     "text": [
      "hashcat (v6.2.5) starting\n",
      "\n",
      "OpenCL API (OpenCL 2.0 pocl 1.8  Linux, None+Asserts, RELOC, LLVM 11.1.0, SLEEF, DISTRO, POCL_DEBUG) - Platform #1 [The pocl project]\n",
      "=====================================================================================================================================\n",
      "* Device #1: pthread-Intel(R) Xeon(R) CPU @ 2.00GHz, 170239/340543 MB (65536 MB allocatable), 96MCU\n",
      "\n",
      "Minimum password length supported by kernel: 0\n",
      "Maximum password length supported by kernel: 31\n",
      "Minimim salt length supported by kernel: 0\n",
      "Maximum salt length supported by kernel: 51\n",
      "\n",
      "Hashes: 1 digests; 1 unique digests, 1 unique salts\n",
      "Bitmaps: 16 bits, 65536 entries, 0x0000ffff mask, 262144 bytes, 5/13 rotates\n",
      "Rules: 1\n",
      "\n",
      "Optimizers applied:\n",
      "* Optimized-Kernel\n",
      "* Zero-Byte\n",
      "* Precompute-Init\n",
      "* Early-Skip\n",
      "* Not-Iterated\n",
      "* Appended-Salt\n",
      "* Single-Hash\n",
      "* Single-Salt\n",
      "* Raw-Hash\n",
      "\n",
      "Watchdog: Hardware monitoring interface not found on your system.\n",
      "Watchdog: Temperature abort trigger disabled.\n",
      "\n",
      "Host memory required for this attack: 26 MB\n",
      "\n",
      "Dictionary cache built:\n",
      "* Filename..: /content/drive/MyDrive/00 Carleton/Do Not Touch/Colab files/Password Dictionary/hashkiller273M.txt\n",
      "* Passwords.: 273208237\n",
      "* Bytes.....: 2980992461\n",
      "* Keyspace..: 273208237\n",
      "* Runtime...: 21 secs\n",
      "\n",
      "[s]tatus [p]ause [b]ypass [c]heckpoint [f]inish [q]uit => s\n",
      "\n",
      "\n",
      "Session..........: hashcat\n",
      "Status...........: Running\n",
      "Hash.Mode........: 1410 (sha256($pass.$salt))\n",
      "Hash.Target......: 6bbff99fa2aca02b71270f99356f7258b6150bf15733f2c7309...ure123\n",
      "Time.Started.....: Mon Dec  2 00:04:53 2024 (37 secs)\n",
      "Time.Estimated...: Mon Dec  2 00:08:16 2024 (2 mins, 46 secs)\n",
      "Kernel.Feature...: Optimized Kernel\n",
      "Guess.Base.......: File (/content/drive/MyDrive/00 Carleton/Do Not Touch/Colab files/Password Dictionary/hashkiller273M.txt)\n",
      "Guess.Queue......: 1/1 (100.00%)\n",
      "Speed.#1.........:  1343.8 kH/s (48.49ms) @ Accel:1024 Loops:1 Thr:1 Vec:16\n",
      "Recovered........: 0/1 (0.00%) Digests\n",
      "Progress.........: 49840128/273208237 (18.24%)\n",
      "Rejected.........: 0/49840128 (0.00%)\n",
      "Restore.Point....: 49840128/273208237 (18.24%)\n",
      "Restore.Sub.#1...: Salt:0 Amplifier:0-1 Iteration:0-1\n",
      "Candidate.Engine.: Device Generator\n",
      "Candidates.#1....: 6dvfrcbvrf -> 6fd7fcd8\n",
      "\n",
      "[s]tatus [p]ause [b]ypass [c]heckpoint [f]inish [q]uit => s\n",
      "\n",
      "\n",
      "Session..........: hashcat\n",
      "Status...........: Running\n",
      "Hash.Mode........: 1410 (sha256($pass.$salt))\n",
      "Hash.Target......: 6bbff99fa2aca02b71270f99356f7258b6150bf15733f2c7309...ure123\n",
      "Time.Started.....: Mon Dec  2 00:04:53 2024 (52 secs)\n",
      "Time.Estimated...: Mon Dec  2 00:08:15 2024 (2 mins, 30 secs)\n",
      "Kernel.Feature...: Optimized Kernel\n",
      "Guess.Base.......: File (/content/drive/MyDrive/00 Carleton/Do Not Touch/Colab files/Password Dictionary/hashkiller273M.txt)\n",
      "Guess.Queue......: 1/1 (100.00%)\n",
      "Speed.#1.........:  1348.3 kH/s (47.61ms) @ Accel:1024 Loops:1 Thr:1 Vec:16\n",
      "Recovered........: 0/1 (0.00%) Digests\n",
      "Progress.........: 69992448/273208237 (25.62%)\n",
      "Rejected.........: 0/69992448 (0.00%)\n",
      "Restore.Point....: 69992448/273208237 (25.62%)\n",
      "Restore.Sub.#1...: Salt:0 Amplifier:0-1 Iteration:0-1\n",
      "Candidate.Engine.: Device Generator\n",
      "Candidates.#1....: aixin1992 -> ajrjvkfg\n",
      "\n",
      "[s]tatus [p]ause [b]ypass [c]heckpoint [f]inish [q]uit => \n",
      "\n",
      "Session..........: hashcat\n",
      "Status...........: Running\n",
      "Hash.Mode........: 1410 (sha256($pass.$salt))\n",
      "Hash.Target......: 6bbff99fa2aca02b71270f99356f7258b6150bf15733f2c7309...ure123\n",
      "Time.Started.....: Mon Dec  2 00:04:53 2024 (52 secs)\n",
      "Time.Estimated...: Mon Dec  2 00:08:15 2024 (2 mins, 30 secs)\n",
      "Kernel.Feature...: Optimized Kernel\n",
      "Guess.Base.......: File (/content/drive/MyDrive/00 Carleton/Do Not Touch/Colab files/Password Dictionary/hashkiller273M.txt)\n",
      "Guess.Queue......: 1/1 (100.00%)\n",
      "Speed.#1.........:  1348.3 kH/s (47.61ms) @ Accel:1024 Loops:1 Thr:1 Vec:16\n",
      "Recovered........: 0/1 (0.00%) Digests\n",
      "Progress.........: 69992448/273208237 (25.62%)\n",
      "Rejected.........: 0/69992448 (0.00%)\n",
      "Restore.Point....: 69992448/273208237 (25.62%)\n",
      "Restore.Sub.#1...: Salt:0 Amplifier:0-1 Iteration:0-1\n",
      "Candidate.Engine.: Device Generator\n",
      "Candidates.#1....: ajdscxyiqz -> ajrjvkfg\n",
      "\n",
      "[s]tatus [p]ause [b]ypass [c]heckpoint [f]inish [q]uit => s\n",
      "\n",
      "\n",
      "Session..........: hashcat\n",
      "Status...........: Running\n",
      "Hash.Mode........: 1410 (sha256($pass.$salt))\n",
      "Hash.Target......: 6bbff99fa2aca02b71270f99356f7258b6150bf15733f2c7309...ure123\n",
      "Time.Started.....: Mon Dec  2 00:04:53 2024 (1 min, 12 secs)\n",
      "Time.Estimated...: Mon Dec  2 00:08:15 2024 (2 mins, 10 secs)\n",
      "Kernel.Feature...: Optimized Kernel\n",
      "Guess.Base.......: File (/content/drive/MyDrive/00 Carleton/Do Not Touch/Colab files/Password Dictionary/hashkiller273M.txt)\n",
      "Guess.Queue......: 1/1 (100.00%)\n",
      "Speed.#1.........:  1348.2 kH/s (47.90ms) @ Accel:1024 Loops:1 Thr:1 Vec:16\n",
      "Recovered........: 0/1 (0.00%) Digests\n",
      "Progress.........: 97320960/273208237 (35.62%)\n",
      "Rejected.........: 0/97320960 (0.00%)\n",
      "Restore.Point....: 97320960/273208237 (35.62%)\n",
      "Restore.Sub.#1...: Salt:0 Amplifier:0-1 Iteration:0-1\n",
      "Candidate.Engine.: Device Generator\n",
      "Candidates.#1....: Chronic666 -> chulankerrie2\n",
      "\n",
      "[s]tatus [p]ause [b]ypass [c]heckpoint [f]inish [q]uit => \n",
      "\n",
      "Session..........: hashcat\n",
      "Status...........: Running\n",
      "Hash.Mode........: 1410 (sha256($pass.$salt))\n",
      "Hash.Target......: 6bbff99fa2aca02b71270f99356f7258b6150bf15733f2c7309...ure123\n",
      "Time.Started.....: Mon Dec  2 00:04:53 2024 (1 min, 12 secs)\n",
      "Time.Estimated...: Mon Dec  2 00:08:15 2024 (2 mins, 10 secs)\n",
      "Kernel.Feature...: Optimized Kernel\n",
      "Guess.Base.......: File (/content/drive/MyDrive/00 Carleton/Do Not Touch/Colab files/Password Dictionary/hashkiller273M.txt)\n",
      "Guess.Queue......: 1/1 (100.00%)\n",
      "Speed.#1.........:  1348.2 kH/s (47.90ms) @ Accel:1024 Loops:1 Thr:1 Vec:16\n",
      "Recovered........: 0/1 (0.00%) Digests\n",
      "Progress.........: 97320960/273208237 (35.62%)\n",
      "Rejected.........: 0/97320960 (0.00%)\n",
      "Restore.Point....: 97320960/273208237 (35.62%)\n",
      "Restore.Sub.#1...: Salt:0 Amplifier:0-1 Iteration:0-1\n",
      "Candidate.Engine.: Device Generator\n",
      "Candidates.#1....: Chronic666 -> chulankerrie2\n",
      "\n",
      "[s]tatus [p]ause [b]ypass [c]heckpoint [f]inish [q]uit => s\n",
      "\n",
      "\n",
      "Session..........: hashcat\n",
      "Status...........: Running\n",
      "Hash.Mode........: 1410 (sha256($pass.$salt))\n",
      "Hash.Target......: 6bbff99fa2aca02b71270f99356f7258b6150bf15733f2c7309...ure123\n",
      "Time.Started.....: Mon Dec  2 00:04:53 2024 (1 min, 26 secs)\n",
      "Time.Estimated...: Mon Dec  2 00:08:15 2024 (1 min, 56 secs)\n",
      "Kernel.Feature...: Optimized Kernel\n",
      "Guess.Base.......: File (/content/drive/MyDrive/00 Carleton/Do Not Touch/Colab files/Password Dictionary/hashkiller273M.txt)\n",
      "Guess.Queue......: 1/1 (100.00%)\n",
      "Speed.#1.........:  1350.3 kH/s (46.37ms) @ Accel:1024 Loops:1 Thr:1 Vec:16\n",
      "Recovered........: 0/1 (0.00%) Digests\n",
      "Progress.........: 115703808/273208237 (42.35%)\n",
      "Rejected.........: 0/115703808 (0.00%)\n",
      "Restore.Point....: 115703808/273208237 (42.35%)\n",
      "Restore.Sub.#1...: Salt:0 Amplifier:0-1 Iteration:0-1\n",
      "Candidate.Engine.: Device Generator\n",
      "Candidates.#1....: eickhuernchen99 -> eIZrnE\n",
      "\n",
      "[s]tatus [p]ause [b]ypass [c]heckpoint [f]inish [q]uit => \n",
      "\n",
      "Session..........: hashcat\n",
      "Status...........: Running\n",
      "Hash.Mode........: 1410 (sha256($pass.$salt))\n",
      "Hash.Target......: 6bbff99fa2aca02b71270f99356f7258b6150bf15733f2c7309...ure123\n",
      "Time.Started.....: Mon Dec  2 00:04:53 2024 (1 min, 26 secs)\n",
      "Time.Estimated...: Mon Dec  2 00:08:15 2024 (1 min, 56 secs)\n",
      "Kernel.Feature...: Optimized Kernel\n",
      "Guess.Base.......: File (/content/drive/MyDrive/00 Carleton/Do Not Touch/Colab files/Password Dictionary/hashkiller273M.txt)\n",
      "Guess.Queue......: 1/1 (100.00%)\n",
      "Speed.#1.........:  1350.3 kH/s (46.37ms) @ Accel:1024 Loops:1 Thr:1 Vec:16\n",
      "Recovered........: 0/1 (0.00%) Digests\n",
      "Progress.........: 115703808/273208237 (42.35%)\n",
      "Rejected.........: 0/115703808 (0.00%)\n",
      "Restore.Point....: 115703808/273208237 (42.35%)\n",
      "Restore.Sub.#1...: Salt:0 Amplifier:0-1 Iteration:0-1\n",
      "Candidate.Engine.: Device Generator\n",
      "Candidates.#1....: eickhuernchen99 -> eIZrnE\n",
      "\n",
      "6bbff99fa2aca02b71270f99356f7258b6150bf15733f2c7309bb2aa801f8071:Secure123:feng20pei000\n",
      "                                                          \n",
      "Session..........: hashcat\n",
      "Status...........: Cracked\n",
      "Hash.Mode........: 1410 (sha256($pass.$salt))\n",
      "Hash.Target......: 6bbff99fa2aca02b71270f99356f7258b6150bf15733f2c7309...ure123\n",
      "Time.Started.....: Mon Dec  2 00:04:53 2024 (1 min, 34 secs)\n",
      "Time.Estimated...: Mon Dec  2 00:06:27 2024 (0 secs)\n",
      "Kernel.Feature...: Optimized Kernel\n",
      "Guess.Base.......: File (/content/drive/MyDrive/00 Carleton/Do Not Touch/Colab files/Password Dictionary/hashkiller273M.txt)\n",
      "Guess.Queue......: 1/1 (100.00%)\n",
      "Speed.#1.........:  1352.0 kH/s (43.52ms) @ Accel:1024 Loops:1 Thr:1 Vec:16\n",
      "Recovered........: 1/1 (100.00%) Digests\n",
      "Progress.........: 127205376/273208237 (46.56%)\n",
      "Rejected.........: 0/127205376 (0.00%)\n",
      "Restore.Point....: 127107072/273208237 (46.52%)\n",
      "Restore.Sub.#1...: Salt:0 Amplifier:0-1 Iteration:0-1\n",
      "Candidate.Engine.: Device Generator\n",
      "Candidates.#1....: fender185 -> fer907133\n",
      "\n",
      "Started: Mon Dec  2 00:03:42 2024\n",
      "Stopped: Mon Dec  2 00:06:29 2024\n"
     ]
    }
   ],
   "source": [
    "!hashcat -m 1410 -a 0 -O -w 4 \"/content/drive/MyDrive/Colab files/SHA256/Salted/sha256_273M.txt\" \"/content/drive/MyDrive/Colab files/Password Dictionary/hashkiller273M.txt\""
   ]
  },
  {
   "cell_type": "markdown",
   "metadata": {
    "id": "OfVybDV-7pXz"
   },
   "source": [
    "# Becrypt"
   ]
  },
  {
   "cell_type": "code",
   "execution_count": null,
   "metadata": {
    "id": "TPc0qMi9h4IQ"
   },
   "outputs": [],
   "source": [
    "%%capture\n",
    "\n",
    "# Install Hashcat\n",
    "!apt-get install -y hashcat\n",
    "\n",
    "# Install bcrypt\n",
    "!pip install bcrypt"
   ]
  },
  {
   "cell_type": "code",
   "execution_count": null,
   "metadata": {
    "colab": {
     "base_uri": "https://localhost:8080/"
    },
    "executionInfo": {
     "elapsed": 496,
     "status": "ok",
     "timestamp": 1733114962086,
     "user": {
      "displayName": "Devanshee Vankani",
      "userId": "06654265297484917435"
     },
     "user_tz": 300
    },
    "id": "USVMgH1kCnk2",
    "outputId": "b2c761dc-b630-49bf-ff07-120efd990d1b"
   },
   "outputs": [
    {
     "name": "stdout",
     "output_type": "stream",
     "text": [
      "bcrypt hash: $2b$12$CmbwDW2ZuujG6juMOta8e.c18/Jajqx2BxE25utYHjLnDSp/BB.cS\n"
     ]
    }
   ],
   "source": [
    "import bcrypt\n",
    "\n",
    "def generate_bcrypt(password: str) -> str:\n",
    "    # Generate the bcrypt hash (bcrypt internally generates the salt)\n",
    "    hashed_password = bcrypt.hashpw(password.encode('utf-8'), bcrypt.gensalt())\n",
    "\n",
    "    return hashed_password.decode('utf-8')\n",
    "\n",
    "# Define the password you want to hash\n",
    "password = \"prince10\"  # Replace with the desired password\n",
    "\n",
    "# Generate the bcrypt hash\n",
    "hashed_password = generate_bcrypt(password)\n",
    "\n",
    "# Print the result\n",
    "print(f\"bcrypt hash: {hashed_password}\")"
   ]
  },
  {
   "cell_type": "markdown",
   "metadata": {
    "id": "J2NCsP3vAHSU"
   },
   "source": [
    "1M"
   ]
  },
  {
   "cell_type": "code",
   "execution_count": null,
   "metadata": {
    "colab": {
     "base_uri": "https://localhost:8080/"
    },
    "collapsed": true,
    "id": "jCj5GCCAAHSW",
    "outputId": "20ae9f15-da3f-45b7-e05d-bde6ef7a71fc"
   },
   "outputs": [
    {
     "name": "stdout",
     "output_type": "stream",
     "text": [
      "hashcat (v6.2.5) starting\n",
      "\n",
      "OpenCL API (OpenCL 2.0 pocl 1.8  Linux, None+Asserts, RELOC, LLVM 11.1.0, SLEEF, DISTRO, POCL_DEBUG) - Platform #1 [The pocl project]\n",
      "=====================================================================================================================================\n",
      "* Device #1: pthread-Intel(R) Xeon(R) CPU @ 2.20GHz, 5433/10930 MB (2048 MB allocatable), 2MCU\n",
      "\n",
      "\u001b[33mKernel /usr/share/hashcat/OpenCL/m03200-optimized.cl:\u001b[0m\n",
      "\u001b[33mOptimized kernel requested, but not available or not required\u001b[0m\n",
      "\u001b[33mFalling back to pure kernel\u001b[0m\n",
      "\u001b[33m\u001b[0m\n",
      "Minimum password length supported by kernel: 0\n",
      "Maximum password length supported by kernel: 72\n",
      "\n",
      "Hashes: 1 digests; 1 unique digests, 1 unique salts\n",
      "Bitmaps: 16 bits, 65536 entries, 0x0000ffff mask, 262144 bytes, 5/13 rotates\n",
      "Rules: 1\n",
      "\n",
      "Optimizers applied:\n",
      "* Zero-Byte\n",
      "* Single-Hash\n",
      "* Single-Salt\n",
      "\n",
      "Watchdog: Hardware monitoring interface not found on your system.\n",
      "Watchdog: Temperature abort trigger disabled.\n",
      "\n",
      "Host memory required for this attack: 0 MB\n",
      "\n",
      "Dictionary cache built:\n",
      "* Filename..: /content/drive/MyDrive/00 Carleton/Do Not Touch/Colab files/Password Dictionary/1MPasswords.txt\n",
      "* Passwords.: 999998\n",
      "* Bytes.....: 8529108\n",
      "* Keyspace..: 999998\n",
      "* Runtime...: 0 secs\n",
      "\n",
      "[s]tatus [p]ause [b]ypass [c]heckpoint [f]inish [q]uit => "
     ]
    }
   ],
   "source": [
    "!hashcat -m 3200 -a 0 -O -w 4 -S  \"/content/drive/MyDrive/Colab files/Bcrypt/Bcrypt1M.txt\" \"/content/drive/MyDrive/Colab files/Password Dictionary/1MPasswords.txt\""
   ]
  },
  {
   "cell_type": "markdown",
   "metadata": {
    "id": "eWt9VIOzAHSX"
   },
   "source": [
    "10M"
   ]
  },
  {
   "cell_type": "markdown",
   "metadata": {
    "id": "rYxl-9Xis1Gr"
   },
   "source": [
    "RAN LOCALLY!"
   ]
  },
  {
   "cell_type": "code",
   "execution_count": null,
   "metadata": {
    "id": "oKuw6nNsAHSX"
   },
   "outputs": [],
   "source": [
    "!hashcat -m 3200 -a 0 -O  -w 4 \"/content/drive/MyDrive/Colab files/Bcrypt/Bcrypt10M.txt\" \"/content/drive/MyDrive/Colab files/Password Dictionary/ignis-10M.txt\""
   ]
  },
  {
   "cell_type": "markdown",
   "metadata": {
    "id": "ZfS91SIyAHSX"
   },
   "source": [
    "256M"
   ]
  },
  {
   "cell_type": "code",
   "execution_count": null,
   "metadata": {
    "id": "T8mf63RxAHSX"
   },
   "outputs": [],
   "source": [
    "!hashcat -m 3200 -a 0 -O \"/content/drive/MyDrive/Colab files/Bcrypt/Bcrypt273M.txt\" \"/content/drive/MyDrive/Colab files/Password Dictionary/ignis-10M.txt\""
   ]
  },
  {
   "cell_type": "markdown",
   "metadata": {
    "id": "KwyzeEJT7stG"
   },
   "source": [
    "RAN LOCALLY"
   ]
  }
 ],
 "metadata": {
  "colab": {
   "authorship_tag": "ABX9TyOme/yG3yYH3QQmKqn8clco",
   "mount_file_id": "1bpFhMCg8-IUe8Cc-KgfflEGNLdH_8sN-",
   "provenance": []
  },
  "kernelspec": {
   "display_name": "Python 3",
   "name": "python3"
  },
  "language_info": {
   "name": "python"
  }
 },
 "nbformat": 4,
 "nbformat_minor": 0
}
